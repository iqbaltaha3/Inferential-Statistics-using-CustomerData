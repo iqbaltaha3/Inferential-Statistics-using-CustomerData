{
 "cells": [
  {
   "cell_type": "code",
   "execution_count": 2,
   "id": "e6408941",
   "metadata": {},
   "outputs": [],
   "source": [
    "import scipy.stats as st\n",
    "import numpy as np"
   ]
  },
  {
   "cell_type": "markdown",
   "id": "d66f5b74",
   "metadata": {},
   "source": [
    "# Confidence Interval"
   ]
  },
  {
   "cell_type": "code",
   "execution_count": 3,
   "id": "35d16ee2",
   "metadata": {},
   "outputs": [],
   "source": [
    "# Create Data\n",
    "x = np.random.normal(size=100)"
   ]
  },
  {
   "cell_type": "code",
   "execution_count": 4,
   "id": "06a0ff59",
   "metadata": {},
   "outputs": [
    {
     "data": {
      "text/plain": [
       "0.15151263161619186"
      ]
     },
     "execution_count": 4,
     "metadata": {},
     "output_type": "execute_result"
    }
   ],
   "source": [
    "sample_mean = np.mean(x)\n",
    "sample_mean"
   ]
  },
  {
   "cell_type": "code",
   "execution_count": 5,
   "id": "dda054f2",
   "metadata": {},
   "outputs": [
    {
     "data": {
      "text/plain": [
       "0.10693722539859193"
      ]
     },
     "execution_count": 5,
     "metadata": {},
     "output_type": "execute_result"
    }
   ],
   "source": [
    "# Standard Errror\n",
    "# it indicates how different population mean is likely to be from the sample mean .\n",
    "# std_error = std. dev / sqrt(n)\n",
    "\n",
    "std_error = st.sem(x)\n",
    "std_error"
   ]
  },
  {
   "cell_type": "code",
   "execution_count": 6,
   "id": "9eaedd4d",
   "metadata": {},
   "outputs": [
    {
     "data": {
      "text/plain": [
       "1.6448536269514722"
      ]
     },
     "execution_count": 6,
     "metadata": {},
     "output_type": "execute_result"
    }
   ],
   "source": [
    "# Confidence Interval Value\n",
    "\n",
    "z_value = st.norm.ppf(1-0.05)  #(1- alpha)\n",
    "z_value"
   ]
  },
  {
   "cell_type": "code",
   "execution_count": 7,
   "id": "1caeacb8",
   "metadata": {},
   "outputs": [
    {
     "name": "stdout",
     "output_type": "stream",
     "text": [
      "-0.024383451436809173 0.32740871466919286\n"
     ]
    }
   ],
   "source": [
    "lowerCI = sample_mean - z_value*std_error\n",
    "upperCI = sample_mean + z_value*std_error\n",
    "print(lowerCI, upperCI)"
   ]
  },
  {
   "cell_type": "code",
   "execution_count": null,
   "id": "4474b0b6",
   "metadata": {},
   "outputs": [],
   "source": []
  },
  {
   "cell_type": "markdown",
   "id": "092cdda9",
   "metadata": {},
   "source": [
    "# Hypothesis Testing"
   ]
  },
  {
   "cell_type": "markdown",
   "id": "e0f43ad4",
   "metadata": {},
   "source": [
    "### 1 Sample T test ( n <= 30)"
   ]
  },
  {
   "cell_type": "markdown",
   "id": "9a777379",
   "metadata": {},
   "source": [
    "it checks if the average of sample is equal to average of population"
   ]
  },
  {
   "cell_type": "code",
   "execution_count": 8,
   "id": "b84aabfe",
   "metadata": {},
   "outputs": [],
   "source": [
    "# lets assume the evrage height of class 10th students in india is 165 cm"
   ]
  },
  {
   "cell_type": "markdown",
   "id": "80e5d54a",
   "metadata": {},
   "source": [
    "H0 = average height is 165 cm\n",
    "\n",
    "H1 = average height is not 165 cm"
   ]
  },
  {
   "cell_type": "code",
   "execution_count": 9,
   "id": "09afdd51",
   "metadata": {},
   "outputs": [],
   "source": [
    "from random import sample #create randomly distributed data"
   ]
  },
  {
   "cell_type": "code",
   "execution_count": 10,
   "id": "425ca1e9",
   "metadata": {},
   "outputs": [],
   "source": [
    "sample1 = sample(range(145,180),30) # sample(range,number of samples)"
   ]
  },
  {
   "cell_type": "code",
   "execution_count": 11,
   "id": "101db837",
   "metadata": {},
   "outputs": [],
   "source": [
    "from scipy.stats import ttest_1samp "
   ]
  },
  {
   "cell_type": "code",
   "execution_count": 12,
   "id": "9b610aee",
   "metadata": {},
   "outputs": [
    {
     "data": {
      "text/plain": [
       "TtestResult(statistic=-1.7319959654630337, pvalue=0.09390011087483463, df=29)"
      ]
     },
     "execution_count": 12,
     "metadata": {},
     "output_type": "execute_result"
    }
   ],
   "source": [
    "ttest_1samp(a=sample1,popmean=165)"
   ]
  },
  {
   "cell_type": "markdown",
   "id": "87c10c4f",
   "metadata": {},
   "source": [
    "as p < 0.05 we will reject the null hypothesis"
   ]
  },
  {
   "cell_type": "code",
   "execution_count": null,
   "id": "ffd02bd7",
   "metadata": {},
   "outputs": [],
   "source": []
  },
  {
   "cell_type": "markdown",
   "id": "2c0f8d54",
   "metadata": {},
   "source": [
    "## 2 sample t-test ( n <= 30)"
   ]
  },
  {
   "cell_type": "markdown",
   "id": "950c482b",
   "metadata": {},
   "source": [
    "Compare means of two Samples"
   ]
  },
  {
   "cell_type": "markdown",
   "id": "dec1e700",
   "metadata": {},
   "source": [
    "s1=male\n",
    "s2=female\n",
    "\n",
    "h0=means are equal\n",
    "h1=means are not equal"
   ]
  },
  {
   "cell_type": "code",
   "execution_count": 13,
   "id": "34f94034",
   "metadata": {},
   "outputs": [],
   "source": [
    "sample_1 = sample(range(145,185),30)\n",
    "sample_2 = sample(range(135,165),30)"
   ]
  },
  {
   "cell_type": "code",
   "execution_count": 14,
   "id": "961dd2e5",
   "metadata": {},
   "outputs": [],
   "source": [
    "from scipy.stats import ttest_ind"
   ]
  },
  {
   "cell_type": "code",
   "execution_count": 15,
   "id": "7a50f530",
   "metadata": {},
   "outputs": [
    {
     "data": {
      "text/plain": [
       "TtestResult(statistic=5.645464657005269, pvalue=5.194531489328282e-07, df=58.0)"
      ]
     },
     "execution_count": 15,
     "metadata": {},
     "output_type": "execute_result"
    }
   ],
   "source": [
    "ttest_ind(sample_1,sample_2)"
   ]
  },
  {
   "cell_type": "markdown",
   "id": "38e5bef4",
   "metadata": {},
   "source": [
    "as p < 0.05 we will reject the null hypothesis"
   ]
  },
  {
   "cell_type": "code",
   "execution_count": null,
   "id": "bac8a4d8",
   "metadata": {},
   "outputs": [],
   "source": []
  },
  {
   "cell_type": "markdown",
   "id": "857ea7df",
   "metadata": {},
   "source": [
    "## paired t-test ( n <= 30)"
   ]
  },
  {
   "cell_type": "markdown",
   "id": "bdd8f374",
   "metadata": {},
   "source": [
    "h0 = mean are equal  h1 = mean are not equal"
   ]
  },
  {
   "cell_type": "code",
   "execution_count": 16,
   "id": "a8798b16",
   "metadata": {},
   "outputs": [],
   "source": [
    "sample1 = sample(range(135,185),30)\n",
    "sample2 = sample(range(135,185),30)"
   ]
  },
  {
   "cell_type": "code",
   "execution_count": 17,
   "id": "a562c8db",
   "metadata": {},
   "outputs": [],
   "source": [
    "from scipy.stats import ttest_rel"
   ]
  },
  {
   "cell_type": "code",
   "execution_count": 18,
   "id": "27a92a48",
   "metadata": {},
   "outputs": [
    {
     "data": {
      "text/plain": [
       "TtestResult(statistic=0.22878787397762732, pvalue=0.8206395497199241, df=29)"
      ]
     },
     "execution_count": 18,
     "metadata": {},
     "output_type": "execute_result"
    }
   ],
   "source": [
    "ttest_rel(sample1,sample2)"
   ]
  },
  {
   "cell_type": "markdown",
   "id": "6af93e68",
   "metadata": {},
   "source": [
    "as p > 0.05 , we will accept the null hypothesis"
   ]
  },
  {
   "cell_type": "code",
   "execution_count": null,
   "id": "68f9f885",
   "metadata": {},
   "outputs": [],
   "source": []
  },
  {
   "cell_type": "markdown",
   "id": "3a44fdc0",
   "metadata": {},
   "source": [
    "## F-test ( n <= 30)"
   ]
  },
  {
   "cell_type": "markdown",
   "id": "0a27a09d",
   "metadata": {},
   "source": [
    "It compares variance of two samples"
   ]
  },
  {
   "cell_type": "code",
   "execution_count": 19,
   "id": "a03ac388",
   "metadata": {},
   "outputs": [],
   "source": [
    "import scipy"
   ]
  },
  {
   "cell_type": "code",
   "execution_count": 20,
   "id": "4f86a5b2",
   "metadata": {},
   "outputs": [],
   "source": [
    "sample1 = sample(range(0,100),30)\n",
    "sample2 = sample(range(20,80),30)"
   ]
  },
  {
   "cell_type": "code",
   "execution_count": 21,
   "id": "6eeeb4c4",
   "metadata": {},
   "outputs": [],
   "source": [
    "f_stat = np.var(sample1)/np.var(sample2)\n",
    "p = 1 - scipy.stats.f.cdf(f_stat,len(sample1)-1,len(sample2)-1)"
   ]
  },
  {
   "cell_type": "code",
   "execution_count": 22,
   "id": "12e83d38",
   "metadata": {},
   "outputs": [
    {
     "name": "stdout",
     "output_type": "stream",
     "text": [
      "2.907362049597906 0.0026685350167638955\n"
     ]
    }
   ],
   "source": [
    "print(f_stat,p)"
   ]
  },
  {
   "cell_type": "markdown",
   "id": "17a942c3",
   "metadata": {},
   "source": [
    "p < 0.05 ,we reject the null hypothesis"
   ]
  },
  {
   "cell_type": "code",
   "execution_count": null,
   "id": "61815e41",
   "metadata": {},
   "outputs": [],
   "source": []
  },
  {
   "cell_type": "markdown",
   "id": "09695b88",
   "metadata": {},
   "source": [
    "## one-way Anova"
   ]
  },
  {
   "cell_type": "markdown",
   "id": "b08b7381",
   "metadata": {},
   "source": [
    "we have to check if the effect of 4 different performance enhancers on EV is same or not .\n",
    "\n",
    "4-samples are taken each sample having one enhancer attached\n",
    "\n",
    "H0=the performance averages are equal\n",
    "h1=performance averages are not equal"
   ]
  },
  {
   "cell_type": "code",
   "execution_count": 23,
   "id": "ab8c075b",
   "metadata": {},
   "outputs": [],
   "source": [
    "sample1=sample(range(0,120),20)\n",
    "sample2=sample(range(0,95),20)\n",
    "sample3=sample(range(0,100),20)\n",
    "sample4=sample(range(0,145),20)"
   ]
  },
  {
   "cell_type": "code",
   "execution_count": 24,
   "id": "82f9be50",
   "metadata": {},
   "outputs": [],
   "source": [
    "from scipy.stats import f_oneway"
   ]
  },
  {
   "cell_type": "code",
   "execution_count": 25,
   "id": "cd2a2d01",
   "metadata": {},
   "outputs": [
    {
     "data": {
      "text/plain": [
       "F_onewayResult(statistic=2.607705955108741, pvalue=0.057700995958410765)"
      ]
     },
     "execution_count": 25,
     "metadata": {},
     "output_type": "execute_result"
    }
   ],
   "source": [
    "f_oneway(sample1,sample2,sample3,sample4)"
   ]
  },
  {
   "cell_type": "markdown",
   "id": "e0a6b154",
   "metadata": {},
   "source": [
    "as p > 0.05 , we don not have enough evidence to reject null hupothesis"
   ]
  },
  {
   "cell_type": "code",
   "execution_count": null,
   "id": "06f9df4f",
   "metadata": {},
   "outputs": [],
   "source": []
  },
  {
   "cell_type": "markdown",
   "id": "9b541ad3",
   "metadata": {},
   "source": [
    "## Two-way Anova"
   ]
  },
  {
   "cell_type": "markdown",
   "id": "c08e1034",
   "metadata": {},
   "source": [
    "h0=there is no significance of the two factors on response variable\n",
    "\n",
    "h1=there no significance of the two factors on response variable\n",
    "\n",
    "The two factors here are tuition and lecture"
   ]
  },
  {
   "cell_type": "code",
   "execution_count": 26,
   "id": "cb97a030",
   "metadata": {},
   "outputs": [],
   "source": [
    "x = {\"lectures\":np.repeat([\"daily\",\"weekly\"],20),\n",
    "    \"tuition\":np.repeat([\"daily\",\"weekly\"],20),\n",
    "    \"marks\": sample(range(35,100),40)}"
   ]
  },
  {
   "cell_type": "code",
   "execution_count": 27,
   "id": "ce645c8e",
   "metadata": {},
   "outputs": [],
   "source": [
    "import pandas as pd"
   ]
  },
  {
   "cell_type": "code",
   "execution_count": 28,
   "id": "b32f4e87",
   "metadata": {},
   "outputs": [
    {
     "data": {
      "text/html": [
       "<div>\n",
       "<style scoped>\n",
       "    .dataframe tbody tr th:only-of-type {\n",
       "        vertical-align: middle;\n",
       "    }\n",
       "\n",
       "    .dataframe tbody tr th {\n",
       "        vertical-align: top;\n",
       "    }\n",
       "\n",
       "    .dataframe thead th {\n",
       "        text-align: right;\n",
       "    }\n",
       "</style>\n",
       "<table border=\"1\" class=\"dataframe\">\n",
       "  <thead>\n",
       "    <tr style=\"text-align: right;\">\n",
       "      <th></th>\n",
       "      <th>lectures</th>\n",
       "      <th>tuition</th>\n",
       "      <th>marks</th>\n",
       "    </tr>\n",
       "  </thead>\n",
       "  <tbody>\n",
       "    <tr>\n",
       "      <th>0</th>\n",
       "      <td>daily</td>\n",
       "      <td>daily</td>\n",
       "      <td>87</td>\n",
       "    </tr>\n",
       "    <tr>\n",
       "      <th>1</th>\n",
       "      <td>daily</td>\n",
       "      <td>daily</td>\n",
       "      <td>89</td>\n",
       "    </tr>\n",
       "    <tr>\n",
       "      <th>2</th>\n",
       "      <td>daily</td>\n",
       "      <td>daily</td>\n",
       "      <td>99</td>\n",
       "    </tr>\n",
       "    <tr>\n",
       "      <th>3</th>\n",
       "      <td>daily</td>\n",
       "      <td>daily</td>\n",
       "      <td>78</td>\n",
       "    </tr>\n",
       "    <tr>\n",
       "      <th>4</th>\n",
       "      <td>daily</td>\n",
       "      <td>daily</td>\n",
       "      <td>94</td>\n",
       "    </tr>\n",
       "  </tbody>\n",
       "</table>\n",
       "</div>"
      ],
      "text/plain": [
       "  lectures tuition  marks\n",
       "0    daily   daily     87\n",
       "1    daily   daily     89\n",
       "2    daily   daily     99\n",
       "3    daily   daily     78\n",
       "4    daily   daily     94"
      ]
     },
     "execution_count": 28,
     "metadata": {},
     "output_type": "execute_result"
    }
   ],
   "source": [
    "x = pd.DataFrame(x)\n",
    "x.head()"
   ]
  },
  {
   "cell_type": "code",
   "execution_count": 29,
   "id": "1368db84",
   "metadata": {},
   "outputs": [],
   "source": [
    "from statsmodels.formula.api import ols"
   ]
  },
  {
   "cell_type": "code",
   "execution_count": 30,
   "id": "31421c4c",
   "metadata": {},
   "outputs": [],
   "source": [
    "model = ols('marks~C(lectures) + C(tuition) + C(lectures):C(tuition)',\n",
    "           data=x).fit()"
   ]
  },
  {
   "cell_type": "code",
   "execution_count": 31,
   "id": "815159d7",
   "metadata": {},
   "outputs": [],
   "source": [
    "import statsmodels.api as sm"
   ]
  },
  {
   "cell_type": "code",
   "execution_count": 32,
   "id": "2255a0d1",
   "metadata": {},
   "outputs": [
    {
     "data": {
      "text/html": [
       "<div>\n",
       "<style scoped>\n",
       "    .dataframe tbody tr th:only-of-type {\n",
       "        vertical-align: middle;\n",
       "    }\n",
       "\n",
       "    .dataframe tbody tr th {\n",
       "        vertical-align: top;\n",
       "    }\n",
       "\n",
       "    .dataframe thead th {\n",
       "        text-align: right;\n",
       "    }\n",
       "</style>\n",
       "<table border=\"1\" class=\"dataframe\">\n",
       "  <thead>\n",
       "    <tr style=\"text-align: right;\">\n",
       "      <th></th>\n",
       "      <th>df</th>\n",
       "      <th>sum_sq</th>\n",
       "      <th>mean_sq</th>\n",
       "      <th>F</th>\n",
       "      <th>PR(&gt;F)</th>\n",
       "    </tr>\n",
       "  </thead>\n",
       "  <tbody>\n",
       "    <tr>\n",
       "      <th>C(lectures)</th>\n",
       "      <td>1.0</td>\n",
       "      <td>2073.600000</td>\n",
       "      <td>2073.600000</td>\n",
       "      <td>5.526497</td>\n",
       "      <td>0.024021</td>\n",
       "    </tr>\n",
       "    <tr>\n",
       "      <th>C(tuition)</th>\n",
       "      <td>1.0</td>\n",
       "      <td>314.610240</td>\n",
       "      <td>314.610240</td>\n",
       "      <td>0.838490</td>\n",
       "      <td>0.365604</td>\n",
       "    </tr>\n",
       "    <tr>\n",
       "      <th>C(lectures):C(tuition)</th>\n",
       "      <td>1.0</td>\n",
       "      <td>870.836838</td>\n",
       "      <td>870.836838</td>\n",
       "      <td>2.320929</td>\n",
       "      <td>0.135924</td>\n",
       "    </tr>\n",
       "    <tr>\n",
       "      <th>Residual</th>\n",
       "      <td>38.0</td>\n",
       "      <td>14258.000000</td>\n",
       "      <td>375.210526</td>\n",
       "      <td>NaN</td>\n",
       "      <td>NaN</td>\n",
       "    </tr>\n",
       "  </tbody>\n",
       "</table>\n",
       "</div>"
      ],
      "text/plain": [
       "                          df        sum_sq      mean_sq         F    PR(>F)\n",
       "C(lectures)              1.0   2073.600000  2073.600000  5.526497  0.024021\n",
       "C(tuition)               1.0    314.610240   314.610240  0.838490  0.365604\n",
       "C(lectures):C(tuition)   1.0    870.836838   870.836838  2.320929  0.135924\n",
       "Residual                38.0  14258.000000   375.210526       NaN       NaN"
      ]
     },
     "execution_count": 32,
     "metadata": {},
     "output_type": "execute_result"
    }
   ],
   "source": [
    "sm.stats.anova_lm(model)"
   ]
  },
  {
   "cell_type": "markdown",
   "id": "6ec72383",
   "metadata": {},
   "source": [
    "as p > 0.05 , no enough evidence to reject the null hypothesis"
   ]
  },
  {
   "cell_type": "code",
   "execution_count": null,
   "id": "a8ac2de1",
   "metadata": {},
   "outputs": [],
   "source": []
  },
  {
   "cell_type": "markdown",
   "id": "ad2e10c5",
   "metadata": {},
   "source": [
    "# Z-test (n>>30)"
   ]
  },
  {
   "cell_type": "code",
   "execution_count": null,
   "id": "e7f98511",
   "metadata": {},
   "outputs": [],
   "source": []
  },
  {
   "cell_type": "markdown",
   "id": "221c3687",
   "metadata": {},
   "source": [
    "## 1-sample z-test"
   ]
  },
  {
   "cell_type": "code",
   "execution_count": null,
   "id": "003e162f",
   "metadata": {},
   "outputs": [],
   "source": []
  },
  {
   "cell_type": "markdown",
   "id": "66e99d3b",
   "metadata": {},
   "source": [
    "### average wt of a high schooler pre pandemic was 55kg.is it same now?"
   ]
  },
  {
   "cell_type": "markdown",
   "id": "addf2917",
   "metadata": {},
   "source": [
    "h0=average wt is same after pandemic\n",
    "\n",
    "h1=average wt is not same after pandemic"
   ]
  },
  {
   "cell_type": "code",
   "execution_count": 33,
   "id": "2497cef6",
   "metadata": {},
   "outputs": [],
   "source": [
    "from random import sample"
   ]
  },
  {
   "cell_type": "code",
   "execution_count": 34,
   "id": "199dcddd",
   "metadata": {},
   "outputs": [],
   "source": [
    "sample1=sample(range(25,85),50)"
   ]
  },
  {
   "cell_type": "code",
   "execution_count": 35,
   "id": "a339bcaf",
   "metadata": {},
   "outputs": [],
   "source": [
    "from statsmodels.stats.weightstats import ztest"
   ]
  },
  {
   "cell_type": "code",
   "execution_count": 36,
   "id": "c3e57048",
   "metadata": {},
   "outputs": [
    {
     "data": {
      "text/plain": [
       "(-0.02323826525285433, 0.9814602155829621)"
      ]
     },
     "execution_count": 36,
     "metadata": {},
     "output_type": "execute_result"
    }
   ],
   "source": [
    "ztest(sample1,value=55)"
   ]
  },
  {
   "cell_type": "markdown",
   "id": "ae0200f1",
   "metadata": {},
   "source": [
    "as p > 0.05 , we do not have enough evidence to reject the null hypothesis"
   ]
  },
  {
   "cell_type": "code",
   "execution_count": null,
   "id": "2bee468f",
   "metadata": {},
   "outputs": [],
   "source": []
  },
  {
   "cell_type": "markdown",
   "id": "c2cd81b6",
   "metadata": {},
   "source": [
    "## 2-sample z-test"
   ]
  },
  {
   "cell_type": "markdown",
   "id": "0a8b9826",
   "metadata": {},
   "source": [
    "### is the average height of class 10th student in school A and school B same ?"
   ]
  },
  {
   "cell_type": "markdown",
   "id": "13c07ac4",
   "metadata": {},
   "source": [
    "h0=mean difference is zero\n",
    "h1=mean difference is not zero"
   ]
  },
  {
   "cell_type": "code",
   "execution_count": 37,
   "id": "db5b5510",
   "metadata": {},
   "outputs": [],
   "source": [
    "sample_a=sample(range(120,180),50)\n",
    "sample_b=sample(range(130,190),50)"
   ]
  },
  {
   "cell_type": "code",
   "execution_count": 38,
   "id": "1d3c26c9",
   "metadata": {},
   "outputs": [
    {
     "data": {
      "text/plain": [
       "(-2.8961240252821097, 0.0037780305242947083)"
      ]
     },
     "execution_count": 38,
     "metadata": {},
     "output_type": "execute_result"
    }
   ],
   "source": [
    "ztest(sample_a,sample_b,value=0)"
   ]
  },
  {
   "cell_type": "markdown",
   "id": "b386d288",
   "metadata": {},
   "source": [
    "as p < 0 , we have enough evidence to reject the null hypothesuis"
   ]
  },
  {
   "cell_type": "code",
   "execution_count": null,
   "id": "116baeb4",
   "metadata": {},
   "outputs": [],
   "source": []
  },
  {
   "cell_type": "markdown",
   "id": "ce43d0de",
   "metadata": {},
   "source": [
    "## Hands on example for 1-sample z-test for proportions"
   ]
  },
  {
   "cell_type": "code",
   "execution_count": 39,
   "id": "bed68e96",
   "metadata": {},
   "outputs": [],
   "source": [
    "import pandas as pd"
   ]
  },
  {
   "cell_type": "code",
   "execution_count": 40,
   "id": "741775b1",
   "metadata": {},
   "outputs": [],
   "source": [
    "purchase = pd.read_csv(\"purchase.csv\")"
   ]
  },
  {
   "cell_type": "code",
   "execution_count": 41,
   "id": "c033fe52",
   "metadata": {},
   "outputs": [
    {
     "data": {
      "text/html": [
       "<div>\n",
       "<style scoped>\n",
       "    .dataframe tbody tr th:only-of-type {\n",
       "        vertical-align: middle;\n",
       "    }\n",
       "\n",
       "    .dataframe tbody tr th {\n",
       "        vertical-align: top;\n",
       "    }\n",
       "\n",
       "    .dataframe thead th {\n",
       "        text-align: right;\n",
       "    }\n",
       "</style>\n",
       "<table border=\"1\" class=\"dataframe\">\n",
       "  <thead>\n",
       "    <tr style=\"text-align: right;\">\n",
       "      <th></th>\n",
       "      <th>User_ID</th>\n",
       "      <th>Product_ID</th>\n",
       "      <th>Gender</th>\n",
       "      <th>Age</th>\n",
       "      <th>Occupation</th>\n",
       "      <th>City_Category</th>\n",
       "      <th>Stay_In_Current_City_Years</th>\n",
       "      <th>Marital_Status</th>\n",
       "      <th>Product_Category_1</th>\n",
       "      <th>Product_Category_2</th>\n",
       "      <th>Product_Category_3</th>\n",
       "      <th>Purchase</th>\n",
       "    </tr>\n",
       "  </thead>\n",
       "  <tbody>\n",
       "    <tr>\n",
       "      <th>0</th>\n",
       "      <td>1000001</td>\n",
       "      <td>P00069042</td>\n",
       "      <td>F</td>\n",
       "      <td>0-17</td>\n",
       "      <td>10.0</td>\n",
       "      <td>A</td>\n",
       "      <td>2</td>\n",
       "      <td>0.0</td>\n",
       "      <td>3.0</td>\n",
       "      <td>NaN</td>\n",
       "      <td>NaN</td>\n",
       "      <td>8370.0</td>\n",
       "    </tr>\n",
       "    <tr>\n",
       "      <th>1</th>\n",
       "      <td>1000001</td>\n",
       "      <td>P00248942</td>\n",
       "      <td>F</td>\n",
       "      <td>0-17</td>\n",
       "      <td>10.0</td>\n",
       "      <td>A</td>\n",
       "      <td>2</td>\n",
       "      <td>0.0</td>\n",
       "      <td>1.0</td>\n",
       "      <td>6.0</td>\n",
       "      <td>14.0</td>\n",
       "      <td>15200.0</td>\n",
       "    </tr>\n",
       "    <tr>\n",
       "      <th>2</th>\n",
       "      <td>1000001</td>\n",
       "      <td>P00087842</td>\n",
       "      <td>F</td>\n",
       "      <td>0-17</td>\n",
       "      <td>10.0</td>\n",
       "      <td>A</td>\n",
       "      <td>2</td>\n",
       "      <td>0.0</td>\n",
       "      <td>12.0</td>\n",
       "      <td>NaN</td>\n",
       "      <td>NaN</td>\n",
       "      <td>1422.0</td>\n",
       "    </tr>\n",
       "    <tr>\n",
       "      <th>3</th>\n",
       "      <td>1000001</td>\n",
       "      <td>P00085442</td>\n",
       "      <td>F</td>\n",
       "      <td>0-17</td>\n",
       "      <td>10.0</td>\n",
       "      <td>A</td>\n",
       "      <td>2</td>\n",
       "      <td>0.0</td>\n",
       "      <td>12.0</td>\n",
       "      <td>14.0</td>\n",
       "      <td>NaN</td>\n",
       "      <td>1057.0</td>\n",
       "    </tr>\n",
       "    <tr>\n",
       "      <th>4</th>\n",
       "      <td>1000002</td>\n",
       "      <td>P00285442</td>\n",
       "      <td>M</td>\n",
       "      <td>55+</td>\n",
       "      <td>16.0</td>\n",
       "      <td>C</td>\n",
       "      <td>4+</td>\n",
       "      <td>0.0</td>\n",
       "      <td>8.0</td>\n",
       "      <td>NaN</td>\n",
       "      <td>NaN</td>\n",
       "      <td>7969.0</td>\n",
       "    </tr>\n",
       "    <tr>\n",
       "      <th>...</th>\n",
       "      <td>...</td>\n",
       "      <td>...</td>\n",
       "      <td>...</td>\n",
       "      <td>...</td>\n",
       "      <td>...</td>\n",
       "      <td>...</td>\n",
       "      <td>...</td>\n",
       "      <td>...</td>\n",
       "      <td>...</td>\n",
       "      <td>...</td>\n",
       "      <td>...</td>\n",
       "      <td>...</td>\n",
       "    </tr>\n",
       "    <tr>\n",
       "      <th>277391</th>\n",
       "      <td>1000780</td>\n",
       "      <td>P00029242</td>\n",
       "      <td>M</td>\n",
       "      <td>26-35</td>\n",
       "      <td>17.0</td>\n",
       "      <td>B</td>\n",
       "      <td>3</td>\n",
       "      <td>0.0</td>\n",
       "      <td>8.0</td>\n",
       "      <td>NaN</td>\n",
       "      <td>NaN</td>\n",
       "      <td>6094.0</td>\n",
       "    </tr>\n",
       "    <tr>\n",
       "      <th>277392</th>\n",
       "      <td>1000780</td>\n",
       "      <td>P00304742</td>\n",
       "      <td>M</td>\n",
       "      <td>26-35</td>\n",
       "      <td>17.0</td>\n",
       "      <td>B</td>\n",
       "      <td>3</td>\n",
       "      <td>0.0</td>\n",
       "      <td>8.0</td>\n",
       "      <td>NaN</td>\n",
       "      <td>NaN</td>\n",
       "      <td>5959.0</td>\n",
       "    </tr>\n",
       "    <tr>\n",
       "      <th>277393</th>\n",
       "      <td>1000780</td>\n",
       "      <td>P00218242</td>\n",
       "      <td>M</td>\n",
       "      <td>26-35</td>\n",
       "      <td>17.0</td>\n",
       "      <td>B</td>\n",
       "      <td>3</td>\n",
       "      <td>0.0</td>\n",
       "      <td>5.0</td>\n",
       "      <td>8.0</td>\n",
       "      <td>NaN</td>\n",
       "      <td>5173.0</td>\n",
       "    </tr>\n",
       "    <tr>\n",
       "      <th>277394</th>\n",
       "      <td>1000780</td>\n",
       "      <td>P00137442</td>\n",
       "      <td>M</td>\n",
       "      <td>26-35</td>\n",
       "      <td>17.0</td>\n",
       "      <td>B</td>\n",
       "      <td>3</td>\n",
       "      <td>0.0</td>\n",
       "      <td>8.0</td>\n",
       "      <td>12.0</td>\n",
       "      <td>NaN</td>\n",
       "      <td>6016.0</td>\n",
       "    </tr>\n",
       "    <tr>\n",
       "      <th>277395</th>\n",
       "      <td>100</td>\n",
       "      <td>NaN</td>\n",
       "      <td>NaN</td>\n",
       "      <td>NaN</td>\n",
       "      <td>NaN</td>\n",
       "      <td>NaN</td>\n",
       "      <td>NaN</td>\n",
       "      <td>NaN</td>\n",
       "      <td>NaN</td>\n",
       "      <td>NaN</td>\n",
       "      <td>NaN</td>\n",
       "      <td>NaN</td>\n",
       "    </tr>\n",
       "  </tbody>\n",
       "</table>\n",
       "<p>277396 rows × 12 columns</p>\n",
       "</div>"
      ],
      "text/plain": [
       "        User_ID Product_ID Gender    Age  Occupation City_Category  \\\n",
       "0       1000001  P00069042      F   0-17        10.0             A   \n",
       "1       1000001  P00248942      F   0-17        10.0             A   \n",
       "2       1000001  P00087842      F   0-17        10.0             A   \n",
       "3       1000001  P00085442      F   0-17        10.0             A   \n",
       "4       1000002  P00285442      M    55+        16.0             C   \n",
       "...         ...        ...    ...    ...         ...           ...   \n",
       "277391  1000780  P00029242      M  26-35        17.0             B   \n",
       "277392  1000780  P00304742      M  26-35        17.0             B   \n",
       "277393  1000780  P00218242      M  26-35        17.0             B   \n",
       "277394  1000780  P00137442      M  26-35        17.0             B   \n",
       "277395      100        NaN    NaN    NaN         NaN           NaN   \n",
       "\n",
       "       Stay_In_Current_City_Years  Marital_Status  Product_Category_1  \\\n",
       "0                               2             0.0                 3.0   \n",
       "1                               2             0.0                 1.0   \n",
       "2                               2             0.0                12.0   \n",
       "3                               2             0.0                12.0   \n",
       "4                              4+             0.0                 8.0   \n",
       "...                           ...             ...                 ...   \n",
       "277391                          3             0.0                 8.0   \n",
       "277392                          3             0.0                 8.0   \n",
       "277393                          3             0.0                 5.0   \n",
       "277394                          3             0.0                 8.0   \n",
       "277395                        NaN             NaN                 NaN   \n",
       "\n",
       "        Product_Category_2  Product_Category_3  Purchase  \n",
       "0                      NaN                 NaN    8370.0  \n",
       "1                      6.0                14.0   15200.0  \n",
       "2                      NaN                 NaN    1422.0  \n",
       "3                     14.0                 NaN    1057.0  \n",
       "4                      NaN                 NaN    7969.0  \n",
       "...                    ...                 ...       ...  \n",
       "277391                 NaN                 NaN    6094.0  \n",
       "277392                 NaN                 NaN    5959.0  \n",
       "277393                 8.0                 NaN    5173.0  \n",
       "277394                12.0                 NaN    6016.0  \n",
       "277395                 NaN                 NaN       NaN  \n",
       "\n",
       "[277396 rows x 12 columns]"
      ]
     },
     "execution_count": 41,
     "metadata": {},
     "output_type": "execute_result"
    }
   ],
   "source": [
    "purchase"
   ]
  },
  {
   "cell_type": "markdown",
   "id": "f058a737",
   "metadata": {},
   "source": [
    "it was observed that 35% of women spent more than 10000 . is this true also for the population ?"
   ]
  },
  {
   "cell_type": "markdown",
   "id": "b379eb9a",
   "metadata": {},
   "source": [
    "h0=proportion is same\n",
    "h1=proportion is not same"
   ]
  },
  {
   "cell_type": "code",
   "execution_count": 42,
   "id": "684ab39d",
   "metadata": {},
   "outputs": [
    {
     "data": {
      "text/html": [
       "<div>\n",
       "<style scoped>\n",
       "    .dataframe tbody tr th:only-of-type {\n",
       "        vertical-align: middle;\n",
       "    }\n",
       "\n",
       "    .dataframe tbody tr th {\n",
       "        vertical-align: top;\n",
       "    }\n",
       "\n",
       "    .dataframe thead th {\n",
       "        text-align: right;\n",
       "    }\n",
       "</style>\n",
       "<table border=\"1\" class=\"dataframe\">\n",
       "  <thead>\n",
       "    <tr style=\"text-align: right;\">\n",
       "      <th></th>\n",
       "      <th>User_ID</th>\n",
       "      <th>Product_ID</th>\n",
       "      <th>Gender</th>\n",
       "      <th>Age</th>\n",
       "      <th>Occupation</th>\n",
       "      <th>City_Category</th>\n",
       "      <th>Stay_In_Current_City_Years</th>\n",
       "      <th>Marital_Status</th>\n",
       "      <th>Product_Category_1</th>\n",
       "      <th>Product_Category_2</th>\n",
       "      <th>Product_Category_3</th>\n",
       "      <th>Purchase</th>\n",
       "    </tr>\n",
       "  </thead>\n",
       "  <tbody>\n",
       "    <tr>\n",
       "      <th>1</th>\n",
       "      <td>1000001</td>\n",
       "      <td>P00248942</td>\n",
       "      <td>F</td>\n",
       "      <td>0-17</td>\n",
       "      <td>10.0</td>\n",
       "      <td>A</td>\n",
       "      <td>2</td>\n",
       "      <td>0.0</td>\n",
       "      <td>1.0</td>\n",
       "      <td>6.0</td>\n",
       "      <td>14.0</td>\n",
       "      <td>15200.0</td>\n",
       "    </tr>\n",
       "    <tr>\n",
       "      <th>5</th>\n",
       "      <td>1000003</td>\n",
       "      <td>P00193542</td>\n",
       "      <td>M</td>\n",
       "      <td>26-35</td>\n",
       "      <td>15.0</td>\n",
       "      <td>A</td>\n",
       "      <td>3</td>\n",
       "      <td>0.0</td>\n",
       "      <td>1.0</td>\n",
       "      <td>2.0</td>\n",
       "      <td>NaN</td>\n",
       "      <td>15227.0</td>\n",
       "    </tr>\n",
       "    <tr>\n",
       "      <th>6</th>\n",
       "      <td>1000004</td>\n",
       "      <td>P00184942</td>\n",
       "      <td>M</td>\n",
       "      <td>46-50</td>\n",
       "      <td>7.0</td>\n",
       "      <td>B</td>\n",
       "      <td>2</td>\n",
       "      <td>1.0</td>\n",
       "      <td>1.0</td>\n",
       "      <td>8.0</td>\n",
       "      <td>17.0</td>\n",
       "      <td>19215.0</td>\n",
       "    </tr>\n",
       "    <tr>\n",
       "      <th>7</th>\n",
       "      <td>1000004</td>\n",
       "      <td>P00346142</td>\n",
       "      <td>M</td>\n",
       "      <td>46-50</td>\n",
       "      <td>7.0</td>\n",
       "      <td>B</td>\n",
       "      <td>2</td>\n",
       "      <td>1.0</td>\n",
       "      <td>1.0</td>\n",
       "      <td>15.0</td>\n",
       "      <td>NaN</td>\n",
       "      <td>15854.0</td>\n",
       "    </tr>\n",
       "    <tr>\n",
       "      <th>8</th>\n",
       "      <td>1000004</td>\n",
       "      <td>P0097242</td>\n",
       "      <td>M</td>\n",
       "      <td>46-50</td>\n",
       "      <td>7.0</td>\n",
       "      <td>B</td>\n",
       "      <td>2</td>\n",
       "      <td>1.0</td>\n",
       "      <td>1.0</td>\n",
       "      <td>16.0</td>\n",
       "      <td>NaN</td>\n",
       "      <td>15686.0</td>\n",
       "    </tr>\n",
       "  </tbody>\n",
       "</table>\n",
       "</div>"
      ],
      "text/plain": [
       "   User_ID Product_ID Gender    Age  Occupation City_Category  \\\n",
       "1  1000001  P00248942      F   0-17        10.0             A   \n",
       "5  1000003  P00193542      M  26-35        15.0             A   \n",
       "6  1000004  P00184942      M  46-50         7.0             B   \n",
       "7  1000004  P00346142      M  46-50         7.0             B   \n",
       "8  1000004   P0097242      M  46-50         7.0             B   \n",
       "\n",
       "  Stay_In_Current_City_Years  Marital_Status  Product_Category_1  \\\n",
       "1                          2             0.0                 1.0   \n",
       "5                          3             0.0                 1.0   \n",
       "6                          2             1.0                 1.0   \n",
       "7                          2             1.0                 1.0   \n",
       "8                          2             1.0                 1.0   \n",
       "\n",
       "   Product_Category_2  Product_Category_3  Purchase  \n",
       "1                 6.0                14.0   15200.0  \n",
       "5                 2.0                 NaN   15227.0  \n",
       "6                 8.0                17.0   19215.0  \n",
       "7                15.0                 NaN   15854.0  \n",
       "8                16.0                 NaN   15686.0  "
      ]
     },
     "execution_count": 42,
     "metadata": {},
     "output_type": "execute_result"
    }
   ],
   "source": [
    "# no of people who have sale greater than 10000\n",
    "\n",
    "data_new = purchase[purchase['Purchase'] > 10000]\n",
    "data_new.head()"
   ]
  },
  {
   "cell_type": "code",
   "execution_count": 43,
   "id": "b12083ce",
   "metadata": {},
   "outputs": [
    {
     "data": {
      "text/plain": [
       "277396"
      ]
     },
     "execution_count": 43,
     "metadata": {},
     "output_type": "execute_result"
    }
   ],
   "source": [
    "len(purchase['Purchase'])"
   ]
  },
  {
   "cell_type": "code",
   "execution_count": 44,
   "id": "c453cec6",
   "metadata": {},
   "outputs": [
    {
     "data": {
      "text/plain": [
       "19809"
      ]
     },
     "execution_count": 44,
     "metadata": {},
     "output_type": "execute_result"
    }
   ],
   "source": [
    "# women buyers in 10000+ category\n",
    "\n",
    "countf = len(data_new[data_new['Gender']=='F'])\n",
    "countf"
   ]
  },
  {
   "cell_type": "code",
   "execution_count": 45,
   "id": "2aa91067",
   "metadata": {},
   "outputs": [
    {
     "data": {
      "text/plain": [
       "96052"
      ]
     },
     "execution_count": 45,
     "metadata": {},
     "output_type": "execute_result"
    }
   ],
   "source": [
    "# number of total obsevations are\n",
    "nobs_total = len(data_new['Gender'])\n",
    "nobs_total"
   ]
  },
  {
   "cell_type": "code",
   "execution_count": 46,
   "id": "00c100f4",
   "metadata": {},
   "outputs": [],
   "source": [
    "from statsmodels.stats.proportion import proportions_ztest"
   ]
  },
  {
   "cell_type": "code",
   "execution_count": 47,
   "id": "b00bdaf4",
   "metadata": {},
   "outputs": [
    {
     "data": {
      "text/plain": [
       "(-110.12615122484837, 0.0)"
      ]
     },
     "execution_count": 47,
     "metadata": {},
     "output_type": "execute_result"
    }
   ],
   "source": [
    "proportions_ztest(count=countf,nobs=nobs_total,value=0.35)"
   ]
  },
  {
   "cell_type": "markdown",
   "id": "537bcda6",
   "metadata": {},
   "source": [
    "as p < 0.05 , we have enough evidence to reject the null hypothesis"
   ]
  },
  {
   "cell_type": "markdown",
   "id": "8786add3",
   "metadata": {},
   "source": [
    "## Hands on example for 2-sample z-test for proportions"
   ]
  },
  {
   "cell_type": "code",
   "execution_count": null,
   "id": "9f5493e1",
   "metadata": {},
   "outputs": [],
   "source": []
  },
  {
   "cell_type": "markdown",
   "id": "79c5d9bf",
   "metadata": {},
   "source": [
    "Is the percentage % of men who spend more than 10000 same for age groups 18-25 and 26-35 ?"
   ]
  },
  {
   "cell_type": "markdown",
   "id": "a1249e1a",
   "metadata": {},
   "source": [
    "h0=proportion is same\n",
    "h1=proportion is not same"
   ]
  },
  {
   "cell_type": "code",
   "execution_count": 48,
   "id": "69d0ece4",
   "metadata": {},
   "outputs": [],
   "source": [
    "data_age1 = data_new[data_new['Age']=='18-25']\n",
    "data_age2 = data_new[data_new['Age']=='26-35']"
   ]
  },
  {
   "cell_type": "code",
   "execution_count": 49,
   "id": "1fa32967",
   "metadata": {},
   "outputs": [],
   "source": [
    "# creating 1000 samples for both age groups including both men and women .\n",
    "# sample function generates new sample everytime program is run , to adjust the sample function,\n",
    "#so that we use same sample again and again we use random_state = 0 as parameter \n",
    "\n",
    "data_age1_sample = data_age1.sample(1000,random_state=0) \n",
    "data_age2_sample = data_age2.sample(1000,random_state=0)"
   ]
  },
  {
   "cell_type": "code",
   "execution_count": 50,
   "id": "4a993f50",
   "metadata": {},
   "outputs": [
    {
     "data": {
      "text/plain": [
       "[790, 833]"
      ]
     },
     "execution_count": 50,
     "metadata": {},
     "output_type": "execute_result"
    }
   ],
   "source": [
    "# counting Number of males in both age groups\n",
    "\n",
    "count_males =[len(data_age1_sample[data_age1_sample['Gender']=='M']),\n",
    "        len(data_age2_sample[data_age2_sample['Gender']=='M'])]\n",
    "count_males"
   ]
  },
  {
   "cell_type": "code",
   "execution_count": 51,
   "id": "c8c2a493",
   "metadata": {},
   "outputs": [
    {
     "data": {
      "text/plain": [
       "[1000, 1000]"
      ]
     },
     "execution_count": 51,
     "metadata": {},
     "output_type": "execute_result"
    }
   ],
   "source": [
    "#calculating total of both males and females in each age group\n",
    "\n",
    "nobs_total = [len(data_age1_sample),len(data_age2_sample)]\n",
    "nobs_total"
   ]
  },
  {
   "cell_type": "markdown",
   "id": "9a8e8430",
   "metadata": {},
   "source": [
    "in the 1-sample z-test , count takes one value while here count takes list of two values , also we have to calculate percentage of men in their respective groups . so we have to count both men as well as whole . "
   ]
  },
  {
   "cell_type": "code",
   "execution_count": 52,
   "id": "8cacc8b7",
   "metadata": {},
   "outputs": [
    {
     "data": {
      "text/plain": [
       "(-2.4584054973552485, 0.013955550040221653)"
      ]
     },
     "execution_count": 52,
     "metadata": {},
     "output_type": "execute_result"
    }
   ],
   "source": [
    "proportions_ztest(count_males,nobs_total,value=0)"
   ]
  },
  {
   "cell_type": "markdown",
   "id": "b38c6dfa",
   "metadata": {},
   "source": [
    "as p < 0.05 , we have enough evidence to reject the null hypothesis."
   ]
  },
  {
   "cell_type": "code",
   "execution_count": null,
   "id": "0457123c",
   "metadata": {},
   "outputs": [],
   "source": []
  },
  {
   "cell_type": "markdown",
   "id": "5bb47e58",
   "metadata": {},
   "source": [
    "## chi quare test of independence"
   ]
  },
  {
   "cell_type": "markdown",
   "id": "c825cb08",
   "metadata": {},
   "source": [
    "is purchase independent of product_category_1 ?\n",
    "\n",
    "h0 = they are not related \n",
    "h1=they are related"
   ]
  },
  {
   "cell_type": "code",
   "execution_count": 53,
   "id": "3cfa4345",
   "metadata": {},
   "outputs": [
    {
     "data": {
      "text/html": [
       "<div>\n",
       "<style scoped>\n",
       "    .dataframe tbody tr th:only-of-type {\n",
       "        vertical-align: middle;\n",
       "    }\n",
       "\n",
       "    .dataframe tbody tr th {\n",
       "        vertical-align: top;\n",
       "    }\n",
       "\n",
       "    .dataframe thead th {\n",
       "        text-align: right;\n",
       "    }\n",
       "</style>\n",
       "<table border=\"1\" class=\"dataframe\">\n",
       "  <thead>\n",
       "    <tr style=\"text-align: right;\">\n",
       "      <th></th>\n",
       "      <th>User_ID</th>\n",
       "      <th>Product_ID</th>\n",
       "      <th>Gender</th>\n",
       "      <th>Age</th>\n",
       "      <th>Occupation</th>\n",
       "      <th>City_Category</th>\n",
       "      <th>Stay_In_Current_City_Years</th>\n",
       "      <th>Marital_Status</th>\n",
       "      <th>Product_Category_1</th>\n",
       "      <th>Product_Category_2</th>\n",
       "      <th>Product_Category_3</th>\n",
       "      <th>Purchase</th>\n",
       "    </tr>\n",
       "  </thead>\n",
       "  <tbody>\n",
       "    <tr>\n",
       "      <th>0</th>\n",
       "      <td>1000001</td>\n",
       "      <td>P00069042</td>\n",
       "      <td>F</td>\n",
       "      <td>0-17</td>\n",
       "      <td>10.0</td>\n",
       "      <td>A</td>\n",
       "      <td>2</td>\n",
       "      <td>0.0</td>\n",
       "      <td>3.0</td>\n",
       "      <td>NaN</td>\n",
       "      <td>NaN</td>\n",
       "      <td>8370.0</td>\n",
       "    </tr>\n",
       "    <tr>\n",
       "      <th>1</th>\n",
       "      <td>1000001</td>\n",
       "      <td>P00248942</td>\n",
       "      <td>F</td>\n",
       "      <td>0-17</td>\n",
       "      <td>10.0</td>\n",
       "      <td>A</td>\n",
       "      <td>2</td>\n",
       "      <td>0.0</td>\n",
       "      <td>1.0</td>\n",
       "      <td>6.0</td>\n",
       "      <td>14.0</td>\n",
       "      <td>15200.0</td>\n",
       "    </tr>\n",
       "    <tr>\n",
       "      <th>2</th>\n",
       "      <td>1000001</td>\n",
       "      <td>P00087842</td>\n",
       "      <td>F</td>\n",
       "      <td>0-17</td>\n",
       "      <td>10.0</td>\n",
       "      <td>A</td>\n",
       "      <td>2</td>\n",
       "      <td>0.0</td>\n",
       "      <td>12.0</td>\n",
       "      <td>NaN</td>\n",
       "      <td>NaN</td>\n",
       "      <td>1422.0</td>\n",
       "    </tr>\n",
       "    <tr>\n",
       "      <th>3</th>\n",
       "      <td>1000001</td>\n",
       "      <td>P00085442</td>\n",
       "      <td>F</td>\n",
       "      <td>0-17</td>\n",
       "      <td>10.0</td>\n",
       "      <td>A</td>\n",
       "      <td>2</td>\n",
       "      <td>0.0</td>\n",
       "      <td>12.0</td>\n",
       "      <td>14.0</td>\n",
       "      <td>NaN</td>\n",
       "      <td>1057.0</td>\n",
       "    </tr>\n",
       "    <tr>\n",
       "      <th>4</th>\n",
       "      <td>1000002</td>\n",
       "      <td>P00285442</td>\n",
       "      <td>M</td>\n",
       "      <td>55+</td>\n",
       "      <td>16.0</td>\n",
       "      <td>C</td>\n",
       "      <td>4+</td>\n",
       "      <td>0.0</td>\n",
       "      <td>8.0</td>\n",
       "      <td>NaN</td>\n",
       "      <td>NaN</td>\n",
       "      <td>7969.0</td>\n",
       "    </tr>\n",
       "    <tr>\n",
       "      <th>...</th>\n",
       "      <td>...</td>\n",
       "      <td>...</td>\n",
       "      <td>...</td>\n",
       "      <td>...</td>\n",
       "      <td>...</td>\n",
       "      <td>...</td>\n",
       "      <td>...</td>\n",
       "      <td>...</td>\n",
       "      <td>...</td>\n",
       "      <td>...</td>\n",
       "      <td>...</td>\n",
       "      <td>...</td>\n",
       "    </tr>\n",
       "    <tr>\n",
       "      <th>277391</th>\n",
       "      <td>1000780</td>\n",
       "      <td>P00029242</td>\n",
       "      <td>M</td>\n",
       "      <td>26-35</td>\n",
       "      <td>17.0</td>\n",
       "      <td>B</td>\n",
       "      <td>3</td>\n",
       "      <td>0.0</td>\n",
       "      <td>8.0</td>\n",
       "      <td>NaN</td>\n",
       "      <td>NaN</td>\n",
       "      <td>6094.0</td>\n",
       "    </tr>\n",
       "    <tr>\n",
       "      <th>277392</th>\n",
       "      <td>1000780</td>\n",
       "      <td>P00304742</td>\n",
       "      <td>M</td>\n",
       "      <td>26-35</td>\n",
       "      <td>17.0</td>\n",
       "      <td>B</td>\n",
       "      <td>3</td>\n",
       "      <td>0.0</td>\n",
       "      <td>8.0</td>\n",
       "      <td>NaN</td>\n",
       "      <td>NaN</td>\n",
       "      <td>5959.0</td>\n",
       "    </tr>\n",
       "    <tr>\n",
       "      <th>277393</th>\n",
       "      <td>1000780</td>\n",
       "      <td>P00218242</td>\n",
       "      <td>M</td>\n",
       "      <td>26-35</td>\n",
       "      <td>17.0</td>\n",
       "      <td>B</td>\n",
       "      <td>3</td>\n",
       "      <td>0.0</td>\n",
       "      <td>5.0</td>\n",
       "      <td>8.0</td>\n",
       "      <td>NaN</td>\n",
       "      <td>5173.0</td>\n",
       "    </tr>\n",
       "    <tr>\n",
       "      <th>277394</th>\n",
       "      <td>1000780</td>\n",
       "      <td>P00137442</td>\n",
       "      <td>M</td>\n",
       "      <td>26-35</td>\n",
       "      <td>17.0</td>\n",
       "      <td>B</td>\n",
       "      <td>3</td>\n",
       "      <td>0.0</td>\n",
       "      <td>8.0</td>\n",
       "      <td>12.0</td>\n",
       "      <td>NaN</td>\n",
       "      <td>6016.0</td>\n",
       "    </tr>\n",
       "    <tr>\n",
       "      <th>277395</th>\n",
       "      <td>100</td>\n",
       "      <td>NaN</td>\n",
       "      <td>NaN</td>\n",
       "      <td>NaN</td>\n",
       "      <td>NaN</td>\n",
       "      <td>NaN</td>\n",
       "      <td>NaN</td>\n",
       "      <td>NaN</td>\n",
       "      <td>NaN</td>\n",
       "      <td>NaN</td>\n",
       "      <td>NaN</td>\n",
       "      <td>NaN</td>\n",
       "    </tr>\n",
       "  </tbody>\n",
       "</table>\n",
       "<p>277396 rows × 12 columns</p>\n",
       "</div>"
      ],
      "text/plain": [
       "        User_ID Product_ID Gender    Age  Occupation City_Category  \\\n",
       "0       1000001  P00069042      F   0-17        10.0             A   \n",
       "1       1000001  P00248942      F   0-17        10.0             A   \n",
       "2       1000001  P00087842      F   0-17        10.0             A   \n",
       "3       1000001  P00085442      F   0-17        10.0             A   \n",
       "4       1000002  P00285442      M    55+        16.0             C   \n",
       "...         ...        ...    ...    ...         ...           ...   \n",
       "277391  1000780  P00029242      M  26-35        17.0             B   \n",
       "277392  1000780  P00304742      M  26-35        17.0             B   \n",
       "277393  1000780  P00218242      M  26-35        17.0             B   \n",
       "277394  1000780  P00137442      M  26-35        17.0             B   \n",
       "277395      100        NaN    NaN    NaN         NaN           NaN   \n",
       "\n",
       "       Stay_In_Current_City_Years  Marital_Status  Product_Category_1  \\\n",
       "0                               2             0.0                 3.0   \n",
       "1                               2             0.0                 1.0   \n",
       "2                               2             0.0                12.0   \n",
       "3                               2             0.0                12.0   \n",
       "4                              4+             0.0                 8.0   \n",
       "...                           ...             ...                 ...   \n",
       "277391                          3             0.0                 8.0   \n",
       "277392                          3             0.0                 8.0   \n",
       "277393                          3             0.0                 5.0   \n",
       "277394                          3             0.0                 8.0   \n",
       "277395                        NaN             NaN                 NaN   \n",
       "\n",
       "        Product_Category_2  Product_Category_3  Purchase  \n",
       "0                      NaN                 NaN    8370.0  \n",
       "1                      6.0                14.0   15200.0  \n",
       "2                      NaN                 NaN    1422.0  \n",
       "3                     14.0                 NaN    1057.0  \n",
       "4                      NaN                 NaN    7969.0  \n",
       "...                    ...                 ...       ...  \n",
       "277391                 NaN                 NaN    6094.0  \n",
       "277392                 NaN                 NaN    5959.0  \n",
       "277393                 8.0                 NaN    5173.0  \n",
       "277394                12.0                 NaN    6016.0  \n",
       "277395                 NaN                 NaN       NaN  \n",
       "\n",
       "[277396 rows x 12 columns]"
      ]
     },
     "execution_count": 53,
     "metadata": {},
     "output_type": "execute_result"
    }
   ],
   "source": [
    "purchase"
   ]
  },
  {
   "cell_type": "code",
   "execution_count": 54,
   "id": "7dd002a4",
   "metadata": {},
   "outputs": [
    {
     "data": {
      "text/plain": [
       "0    0\n",
       "1    1\n",
       "2    0\n",
       "3    0\n",
       "4    0\n",
       "Name: Purchase, dtype: category\n",
       "Categories (2, int64): [0 < 1]"
      ]
     },
     "execution_count": 54,
     "metadata": {},
     "output_type": "execute_result"
    }
   ],
   "source": [
    "# convert purchase column from continuous to categorial using pd.cut function\n",
    "purchase['Purchase'] = pd.cut(purchase['Purchase'],bins=[0,10000,23961],labels=[0,1])\n",
    "purchase['Purchase'].head()"
   ]
  },
  {
   "cell_type": "code",
   "execution_count": 55,
   "id": "dea7d887",
   "metadata": {},
   "outputs": [
    {
     "data": {
      "text/html": [
       "<div>\n",
       "<style scoped>\n",
       "    .dataframe tbody tr th:only-of-type {\n",
       "        vertical-align: middle;\n",
       "    }\n",
       "\n",
       "    .dataframe tbody tr th {\n",
       "        vertical-align: top;\n",
       "    }\n",
       "\n",
       "    .dataframe thead th {\n",
       "        text-align: right;\n",
       "    }\n",
       "</style>\n",
       "<table border=\"1\" class=\"dataframe\">\n",
       "  <thead>\n",
       "    <tr style=\"text-align: right;\">\n",
       "      <th>Product_Category_1</th>\n",
       "      <th>1.0</th>\n",
       "      <th>2.0</th>\n",
       "      <th>3.0</th>\n",
       "      <th>4.0</th>\n",
       "      <th>5.0</th>\n",
       "      <th>6.0</th>\n",
       "      <th>7.0</th>\n",
       "      <th>8.0</th>\n",
       "      <th>9.0</th>\n",
       "      <th>10.0</th>\n",
       "      <th>11.0</th>\n",
       "      <th>12.0</th>\n",
       "      <th>13.0</th>\n",
       "      <th>14.0</th>\n",
       "      <th>15.0</th>\n",
       "      <th>16.0</th>\n",
       "      <th>17.0</th>\n",
       "      <th>18.0</th>\n",
       "    </tr>\n",
       "    <tr>\n",
       "      <th>Purchase</th>\n",
       "      <th></th>\n",
       "      <th></th>\n",
       "      <th></th>\n",
       "      <th></th>\n",
       "      <th></th>\n",
       "      <th></th>\n",
       "      <th></th>\n",
       "      <th></th>\n",
       "      <th></th>\n",
       "      <th></th>\n",
       "      <th></th>\n",
       "      <th></th>\n",
       "      <th></th>\n",
       "      <th></th>\n",
       "      <th></th>\n",
       "      <th></th>\n",
       "      <th></th>\n",
       "      <th></th>\n",
       "    </tr>\n",
       "  </thead>\n",
       "  <tbody>\n",
       "    <tr>\n",
       "      <th>0</th>\n",
       "      <td>13268</td>\n",
       "      <td>5040</td>\n",
       "      <td>3738</td>\n",
       "      <td>5993</td>\n",
       "      <td>76902</td>\n",
       "      <td>940</td>\n",
       "      <td>173</td>\n",
       "      <td>54715</td>\n",
       "      <td>49</td>\n",
       "      <td>124</td>\n",
       "      <td>12260</td>\n",
       "      <td>1994</td>\n",
       "      <td>2796</td>\n",
       "      <td>146</td>\n",
       "      <td>746</td>\n",
       "      <td>826</td>\n",
       "      <td>89</td>\n",
       "      <td>1544</td>\n",
       "    </tr>\n",
       "    <tr>\n",
       "      <th>1</th>\n",
       "      <td>58025</td>\n",
       "      <td>7092</td>\n",
       "      <td>6543</td>\n",
       "      <td>0</td>\n",
       "      <td>0</td>\n",
       "      <td>9291</td>\n",
       "      <td>1717</td>\n",
       "      <td>3303</td>\n",
       "      <td>161</td>\n",
       "      <td>2478</td>\n",
       "      <td>0</td>\n",
       "      <td>0</td>\n",
       "      <td>0</td>\n",
       "      <td>613</td>\n",
       "      <td>2440</td>\n",
       "      <td>4174</td>\n",
       "      <td>215</td>\n",
       "      <td>0</td>\n",
       "    </tr>\n",
       "  </tbody>\n",
       "</table>\n",
       "</div>"
      ],
      "text/plain": [
       "Product_Category_1   1.0   2.0   3.0   4.0    5.0   6.0   7.0    8.0   9.0   \\\n",
       "Purchase                                                                      \n",
       "0                   13268  5040  3738  5993  76902   940   173  54715    49   \n",
       "1                   58025  7092  6543     0      0  9291  1717   3303   161   \n",
       "\n",
       "Product_Category_1  10.0   11.0  12.0  13.0  14.0  15.0  16.0  17.0  18.0  \n",
       "Purchase                                                                   \n",
       "0                    124  12260  1994  2796   146   746   826    89  1544  \n",
       "1                   2478      0     0     0   613  2440  4174   215     0  "
      ]
     },
     "execution_count": 55,
     "metadata": {},
     "output_type": "execute_result"
    }
   ],
   "source": [
    "cross_table=pd.crosstab(purchase['Purchase'],purchase['Product_Category_1'])\n",
    "cross_table"
   ]
  },
  {
   "cell_type": "code",
   "execution_count": 56,
   "id": "f0d050db",
   "metadata": {},
   "outputs": [],
   "source": [
    "import scipy"
   ]
  },
  {
   "cell_type": "code",
   "execution_count": 57,
   "id": "257cdaa6",
   "metadata": {},
   "outputs": [
    {
     "data": {
      "text/plain": [
       "Chi2ContingencyResult(statistic=180882.62707775173, pvalue=0.0, dof=17, expected_freq=array([[46606.77553308,  7931.12087817,  6721.05619424,  3917.8377368 ,\n",
       "        50273.57878116,  6688.36941185,  1235.5603742 , 37928.43480957,\n",
       "          137.28448602,  1701.02015537,  8014.79904108,  1303.54888156,\n",
       "         1827.84487103,   496.18535662,  2082.80177364,  3268.67823861,\n",
       "          198.73563691,  1009.36784008],\n",
       "       [24686.22446692,  4200.87912183,  3559.94380576,  2075.1622632 ,\n",
       "        26628.42121884,  3542.63058815,   654.4396258 , 20089.56519043,\n",
       "           72.71551398,   900.97984463,  4245.20095892,   690.45111844,\n",
       "          968.15512897,   262.81464338,  1103.19822636,  1731.32176139,\n",
       "          105.26436309,   534.63215992]]))"
      ]
     },
     "execution_count": 57,
     "metadata": {},
     "output_type": "execute_result"
    }
   ],
   "source": [
    "scipy.stats.chi2_contingency(cross_table)"
   ]
  },
  {
   "cell_type": "markdown",
   "id": "a9f8c319",
   "metadata": {},
   "source": [
    "as p < 0.05 , we have enough evidence to reject the null hypothesis"
   ]
  },
  {
   "cell_type": "code",
   "execution_count": null,
   "id": "935eab9c",
   "metadata": {},
   "outputs": [],
   "source": []
  },
  {
   "cell_type": "code",
   "execution_count": null,
   "id": "223acd12",
   "metadata": {},
   "outputs": [],
   "source": []
  }
 ],
 "metadata": {
  "kernelspec": {
   "display_name": "Python 3 (ipykernel)",
   "language": "python",
   "name": "python3"
  },
  "language_info": {
   "codemirror_mode": {
    "name": "ipython",
    "version": 3
   },
   "file_extension": ".py",
   "mimetype": "text/x-python",
   "name": "python",
   "nbconvert_exporter": "python",
   "pygments_lexer": "ipython3",
   "version": "3.11.7"
  }
 },
 "nbformat": 4,
 "nbformat_minor": 5
}
